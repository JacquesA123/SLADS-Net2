{
 "cells": [
  {
   "cell_type": "markdown",
   "id": "e0d30578",
   "metadata": {},
   "source": [
    "# Thin Films Investigation"
   ]
  },
  {
   "cell_type": "markdown",
   "id": "4cec7e38",
   "metadata": {},
   "source": [
    "## CaMoO4 5"
   ]
  },
  {
   "cell_type": "code",
<<<<<<< HEAD
   "execution_count": null,
=======
   "execution_count": 2,
>>>>>>> b932f4450740b28319725338251acc976b8f1aa9
   "id": "75ec963d",
   "metadata": {},
   "outputs": [],
   "source": [
    "\n",
    "import PyPhenom as ppi\n",
    "import license\n",
    "import os\n",
<<<<<<< HEAD
    "from AutoPhenom import AcquireSEMImage_at_current_location\n",
=======
    "from PyPhenom_SLADS import AcquireSEMImage_at_current_location\n",
>>>>>>> b932f4450740b28319725338251acc976b8f1aa9
    "\n",
    "## Prepare the Phenom SEM ##\n",
    "address = ppi.FindPhenom(1).ip\n",
    "phenom = ppi.Phenom(address,  license.PhenomUsername,  license.PhenomPassword)\n",
    "\n",
    "SavePath = r\"C:\\PhenomData\\Thin FIlms\\CaMoO4 5\\Images\"\n",
    "filename = \"5MicronsHFW\"\n",
<<<<<<< HEAD
    "image_path = AcquireSEMImage_at_current_location(SavePath, os.path.basename(filename), 1024, phenom)\n"
=======
    "image_path = AcquireSEMImage_at_current_location(SavePath, os.path.basename(filename), 1024)\n"
>>>>>>> b932f4450740b28319725338251acc976b8f1aa9
   ]
  },
  {
   "cell_type": "markdown",
   "id": "2bd4d86c",
   "metadata": {},
   "source": [
    "## TiO2 239"
   ]
  },
  {
   "cell_type": "code",
<<<<<<< HEAD
   "execution_count": null,
=======
   "execution_count": 4,
>>>>>>> b932f4450740b28319725338251acc976b8f1aa9
   "id": "648eec5d",
   "metadata": {},
   "outputs": [],
   "source": [
    "\n",
    "import PyPhenom as ppi\n",
    "import license\n",
    "import os\n",
<<<<<<< HEAD
    "from AutoPhenom import AcquireSEMImage_at_current_location\n",
=======
    "from PyPhenom_SLADS import AcquireSEMImage_at_current_location\n",
>>>>>>> b932f4450740b28319725338251acc976b8f1aa9
    "\n",
    "## Prepare the Phenom SEM ##\n",
    "address = ppi.FindPhenom(1).ip\n",
    "phenom = ppi.Phenom(address,  license.PhenomUsername,  license.PhenomPassword)\n",
    "\n",
    "SavePath = r\"C:\\PhenomData\\Thin FIlms\\TiO2 239\\Images\"\n",
    "filename = \"30MicronsHFW\"\n",
<<<<<<< HEAD
    "image_path = AcquireSEMImage_at_current_location(SavePath, os.path.basename(filename), 1024, phenom)"
=======
    "image_path = AcquireSEMImage_at_current_location(SavePath, os.path.basename(filename), 1024)"
>>>>>>> b932f4450740b28319725338251acc976b8f1aa9
   ]
  },
  {
   "cell_type": "markdown",
   "id": "dd011531",
   "metadata": {},
   "source": [
    "## CeO2 112"
   ]
  },
  {
   "cell_type": "code",
<<<<<<< HEAD
   "execution_count": null,
=======
   "execution_count": 7,
>>>>>>> b932f4450740b28319725338251acc976b8f1aa9
   "id": "25f4ebdf",
   "metadata": {},
   "outputs": [],
   "source": [
    "\n",
    "\n",
    "import PyPhenom as ppi\n",
    "import license\n",
    "import os\n",
<<<<<<< HEAD
    "from AutoPhenom import AcquireSEMImage_at_current_location\n",
=======
    "from PyPhenom_SLADS import AcquireSEMImage_at_current_location\n",
>>>>>>> b932f4450740b28319725338251acc976b8f1aa9
    "\n",
    "## Prepare the Phenom SEM ##\n",
    "address = ppi.FindPhenom(1).ip\n",
    "phenom = ppi.Phenom(address,  license.PhenomUsername,  license.PhenomPassword)\n",
    "\n",
    "SavePath = r\"C:\\PhenomData\\Thin FIlms\\CeO2 112\\Images\"\n",
    "filename = \"30MicronsHFW\"\n",
<<<<<<< HEAD
    "image_path = AcquireSEMImage_at_current_location(SavePath, os.path.basename(filename), 1024, phenom)"
=======
    "image_path = AcquireSEMImage_at_current_location(SavePath, os.path.basename(filename), 1024)"
>>>>>>> b932f4450740b28319725338251acc976b8f1aa9
   ]
  },
  {
   "cell_type": "markdown",
   "id": "0c0fec50",
   "metadata": {},
   "source": [
    "## CeO2 115"
   ]
  },
  {
   "cell_type": "code",
<<<<<<< HEAD
   "execution_count": null,
=======
   "execution_count": 10,
>>>>>>> b932f4450740b28319725338251acc976b8f1aa9
   "id": "45ce2da8",
   "metadata": {},
   "outputs": [],
   "source": [
    "\n",
    "import PyPhenom as ppi\n",
    "import license\n",
    "import os\n",
<<<<<<< HEAD
    "from AutoPhenom import AcquireSEMImage_at_current_location\n",
=======
    "from PyPhenom_SLADS import AcquireSEMImage_at_current_location\n",
>>>>>>> b932f4450740b28319725338251acc976b8f1aa9
    "\n",
    "## Prepare the Phenom SEM ##\n",
    "address = ppi.FindPhenom(1).ip\n",
    "phenom = ppi.Phenom(address,  license.PhenomUsername,  license.PhenomPassword)\n",
    "\n",
    "SavePath = r\"C:\\PhenomData\\Thin FIlms\\CeO2 115\\Images\"\n",
    "filename = \"500MicronsHFW\"\n",
<<<<<<< HEAD
    "image_path = AcquireSEMImage_at_current_location(SavePath, os.path.basename(filename), 1024, phenom)"
=======
    "image_path = AcquireSEMImage_at_current_location(SavePath, os.path.basename(filename), 1024)"
>>>>>>> b932f4450740b28319725338251acc976b8f1aa9
   ]
  },
  {
   "cell_type": "markdown",
   "id": "78e338b6",
   "metadata": {},
   "source": [
    "## CeO2 39"
   ]
  },
  {
   "cell_type": "code",
<<<<<<< HEAD
   "execution_count": null,
=======
   "execution_count": 13,
>>>>>>> b932f4450740b28319725338251acc976b8f1aa9
   "id": "436ef5c9",
   "metadata": {},
   "outputs": [],
   "source": [
    "\n",
    "import PyPhenom as ppi\n",
    "import license\n",
    "import os\n",
<<<<<<< HEAD
    "from AutoPhenom import AcquireSEMImage_at_current_location\n",
=======
    "from PyPhenom_SLADS import AcquireSEMImage_at_current_location\n",
>>>>>>> b932f4450740b28319725338251acc976b8f1aa9
    "\n",
    "## Prepare the Phenom SEM ##\n",
    "address = ppi.FindPhenom(1).ip\n",
    "phenom = ppi.Phenom(address,  license.PhenomUsername,  license.PhenomPassword)\n",
    "\n",
    "SavePath = r\"C:\\PhenomData\\Thin FIlms\\CeO2 39\\Images\"\n",
    "filename = \"30MicronsHFW\"\n",
<<<<<<< HEAD
    "image_path = AcquireSEMImage_at_current_location(SavePath, os.path.basename(filename), 1024, phenom)"
=======
    "image_path = AcquireSEMImage_at_current_location(SavePath, os.path.basename(filename), 1024)"
>>>>>>> b932f4450740b28319725338251acc976b8f1aa9
   ]
  },
  {
   "cell_type": "markdown",
   "id": "1f632dab",
   "metadata": {},
   "source": [
    "## TiO2 237"
   ]
  },
  {
   "cell_type": "code",
<<<<<<< HEAD
   "execution_count": null,
=======
   "execution_count": 16,
>>>>>>> b932f4450740b28319725338251acc976b8f1aa9
   "id": "c9230f37",
   "metadata": {},
   "outputs": [],
   "source": [
    "\n",
    "import PyPhenom as ppi\n",
    "import license\n",
    "import os\n",
<<<<<<< HEAD
    "from AutoPhenom import AcquireSEMImage_at_current_location\n",
=======
    "from PyPhenom_SLADS import AcquireSEMImage_at_current_location\n",
>>>>>>> b932f4450740b28319725338251acc976b8f1aa9
    "\n",
    "## Prepare the Phenom SEM ##\n",
    "address = ppi.FindPhenom(1).ip\n",
    "phenom = ppi.Phenom(address,  license.PhenomUsername,  license.PhenomPassword)\n",
    "\n",
    "SavePath = r\"C:\\PhenomData\\Thin FIlms\\TiO2 237\\Images\"\n",
    "filename = \"30MicronsHFW\"\n",
<<<<<<< HEAD
    "image_path = AcquireSEMImage_at_current_location(SavePath, os.path.basename(filename), 1024, phenom)"
=======
    "image_path = AcquireSEMImage_at_current_location(SavePath, os.path.basename(filename), 1024)"
>>>>>>> b932f4450740b28319725338251acc976b8f1aa9
   ]
  },
  {
   "cell_type": "markdown",
   "id": "b191cd2e",
   "metadata": {},
   "source": [
    "## TiO2 238"
   ]
  },
  {
   "cell_type": "code",
<<<<<<< HEAD
   "execution_count": null,
=======
   "execution_count": 18,
>>>>>>> b932f4450740b28319725338251acc976b8f1aa9
   "id": "a1a31ebd",
   "metadata": {},
   "outputs": [],
   "source": [
    "import PyPhenom as ppi\n",
    "import license\n",
    "import os\n",
<<<<<<< HEAD
    "import sys\n",
    "sys.path.append(r'C:\\Users\\labuser\\Downloads\\PyPhenom (2.1)\\PyPhenom\\Jacques_Argonne_Internship\\Phenom Repositories\\Phenom-Env_V2\\Phenom')\n",
    "from AutoPhenom import AcquireSEMImage_at_current_location\n",
=======
    "from PyPhenom_SLADS import AcquireSEMImage_at_current_location\n",
>>>>>>> b932f4450740b28319725338251acc976b8f1aa9
    "\n",
    "## Prepare the Phenom SEM ##\n",
    "address = ppi.FindPhenom(1).ip\n",
    "phenom = ppi.Phenom(address,  license.PhenomUsername,  license.PhenomPassword)\n",
    "\n",
    "SavePath = r\"C:\\PhenomData\\Thin FIlms\\TiO2 238\\Images\"\n",
<<<<<<< HEAD
    "filename = \"30912311MicronsHFW\"\n",
    "image_path = AcquireSEMImage_at_current_location(SavePath, os.path.basename(filename), 1024, phenom)"
   ]
  },
  {
   "cell_type": "markdown",
   "id": "a341b33f",
   "metadata": {},
   "source": [
    "## Take a single spot measurement"
=======
    "filename = \"30MicronsHFW\"\n",
    "image_path = AcquireSEMImage_at_current_location(SavePath, os.path.basename(filename), 1024)"
>>>>>>> b932f4450740b28319725338251acc976b8f1aa9
   ]
  }
 ],
 "metadata": {
  "kernelspec": {
   "display_name": "Phenom-Env_V2",
   "language": "python",
   "name": "python3"
  },
  "language_info": {
   "codemirror_mode": {
    "name": "ipython",
    "version": 3
   },
   "file_extension": ".py",
   "mimetype": "text/x-python",
   "name": "python",
   "nbconvert_exporter": "python",
   "pygments_lexer": "ipython3",
   "version": "3.8.0"
  }
 },
 "nbformat": 4,
 "nbformat_minor": 5
}
