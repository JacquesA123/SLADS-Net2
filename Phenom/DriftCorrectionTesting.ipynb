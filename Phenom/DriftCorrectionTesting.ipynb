{
 "cells": [
  {
   "cell_type": "markdown",
   "id": "3374194f",
   "metadata": {},
   "source": [
    "# Drift Correction Testing"
   ]
  },
  {
   "cell_type": "markdown",
   "id": "d2ecb970",
   "metadata": {},
   "source": [
    "## Setup"
   ]
  },
  {
   "cell_type": "code",
<<<<<<< HEAD
   "execution_count": null,
=======
   "execution_count": 1,
>>>>>>> b932f4450740b28319725338251acc976b8f1aa9
   "id": "dcd478e1",
   "metadata": {},
   "outputs": [],
   "source": [
<<<<<<< HEAD
    "import AutoPhenom as ap\n",
    "import PyPhenom as ppi\n",
    "import os\n",
    "import license\n",
    "from AutoPhenom import AcquireSEMImage_at_current_location\n",
=======
    "import ParticleImageSegmentationLibrary as pisl\n",
    "import PyPhenom as ppi\n",
    "import os\n",
    "import license\n",
    "from PyPhenom_SLADS import AcquireSEMImage_at_current_location\n",
>>>>>>> b932f4450740b28319725338251acc976b8f1aa9
    "\n",
    "## Prepare the Phenom SEM ##\n",
    "address = ppi.FindPhenom(1).ip\n",
    "phenom = ppi.Phenom(address,  license.PhenomUsername,  license.PhenomPassword)"
   ]
  },
  {
   "cell_type": "markdown",
   "id": "d7e58a38",
   "metadata": {},
   "source": [
    "## Use NO backlash algorithm when moving"
   ]
  },
  {
   "cell_type": "code",
<<<<<<< HEAD
   "execution_count": null,
=======
   "execution_count": 2,
>>>>>>> b932f4450740b28319725338251acc976b8f1aa9
   "id": "4a3bf1fe",
   "metadata": {},
   "outputs": [],
   "source": [
    "# Move to starting point\n",
    "phenom.MoveTo(0.001, 0.001)\n",
    "\n",
    "# Acquire image\n",
    "SavePath = r\"C:\\PhenomData\\DriftAnalysis\\Backlash Algorithm\\Without Backlash\"\n",
    "filename = \"Initial1\"\n",
<<<<<<< HEAD
    "image_path = AcquireSEMImage_at_current_location(SavePath, os.path.basename(filename), 1024, phenom)\n",
=======
    "image_path = AcquireSEMImage_at_current_location(SavePath, os.path.basename(filename), 1024)\n",
>>>>>>> b932f4450740b28319725338251acc976b8f1aa9
    "\n",
    "# Move to second point\n",
    "phenom.MoveTo(0.009, 0.009)\n",
    "\n",
    "\n",
    "# MOve back to starting point\n",
    "phenom.MoveTo(0.001, 0.001)\n",
    "\n",
    "# Acquire image\n",
    "SavePath = r\"C:\\PhenomData\\DriftAnalysis\\Backlash Algorithm\\Without Backlash\"\n",
    "filename = \"Final1\"\n",
<<<<<<< HEAD
    "image_path = AcquireSEMImage_at_current_location(SavePath, os.path.basename(filename), 1024, phenom)\n"
=======
    "image_path = AcquireSEMImage_at_current_location(SavePath, os.path.basename(filename), 1024)\n"
>>>>>>> b932f4450740b28319725338251acc976b8f1aa9
   ]
  },
  {
   "cell_type": "markdown",
   "id": "1f857687",
   "metadata": {},
   "source": [
    "## Use backlash algorithm when moving"
   ]
  },
  {
   "cell_type": "code",
<<<<<<< HEAD
   "execution_count": null,
=======
   "execution_count": 3,
>>>>>>> b932f4450740b28319725338251acc976b8f1aa9
   "id": "9bf7f2c3",
   "metadata": {},
   "outputs": [],
   "source": [
    "# Move to starting point\n",
    "phenom.MoveTo(0.001, 0.001, algorithm = ppi.NavigationAlgorithm.BacklashOnly)\n",
    "\n",
    "# Acquire image\n",
    "SavePath = r\"C:\\PhenomData\\DriftAnalysis\\Backlash Algorithm\\With Backlash\"\n",
    "filename = \"Initial1\"\n",
<<<<<<< HEAD
    "image_path = AcquireSEMImage_at_current_location(SavePath, os.path.basename(filename), 1024, phenom)\n",
=======
    "image_path = AcquireSEMImage_at_current_location(SavePath, os.path.basename(filename), 1024)\n",
>>>>>>> b932f4450740b28319725338251acc976b8f1aa9
    "\n",
    "# Move to second point\n",
    "phenom.MoveTo(0.009, 0.009, algorithm = ppi.NavigationAlgorithm.BacklashOnly)\n",
    "\n",
    "\n",
    "# MOve back to starting point\n",
    "phenom.MoveTo(0.001, 0.001, algorithm = ppi.NavigationAlgorithm.BacklashOnly)\n",
    "\n",
    "# Acquire image\n",
    "SavePath = r\"C:\\PhenomData\\DriftAnalysis\\Backlash Algorithm\\With Backlash\"\n",
    "filename = \"Final1\"\n",
<<<<<<< HEAD
    "image_path = AcquireSEMImage_at_current_location(SavePath, os.path.basename(filename), 1024, phenom)"
=======
    "image_path = AcquireSEMImage_at_current_location(SavePath, os.path.basename(filename), 1024)"
>>>>>>> b932f4450740b28319725338251acc976b8f1aa9
   ]
  },
  {
   "cell_type": "markdown",
   "id": "8fd6d31b",
   "metadata": {},
   "source": [
    "### Conclusion: It doesn't make a huge difference"
   ]
  },
  {
   "cell_type": "markdown",
   "id": "cfa9da98",
   "metadata": {},
   "source": [
    "## Testing EDS Drift Correction (Goal is to use drift correction settings to always sample the same spot. Try to sample the same exact spot six times in a row, for ten seconds of dwell time each time.)"
   ]
  },
  {
   "cell_type": "markdown",
   "id": "1d2c8945",
   "metadata": {},
   "source": [
    "### No Drift Correction Applied"
   ]
  },
  {
   "cell_type": "code",
   "execution_count": 4,
   "id": "a218fcef",
   "metadata": {},
   "outputs": [
    {
     "name": "stdout",
     "output_type": "stream",
     "text": [
      "\u001b[33;20mWARNING | Hyperspy | `signal_type='EDS_SEM'` not understood. See `hs.print_known_signal_types()` for a list of installed signal types or https://github.com/hyperspy/hyperspy-extensions-list for the list of all hyperspy extensions providing signals. (hyperspy.io:744)\u001b[0m\n",
      "From inside writespectrum, we create a spectrum of shape (2048,)\n",
      "\u001b[33;20mWARNING | Hyperspy | `signal_type='EDS_SEM'` not understood. See `hs.print_known_signal_types()` for a list of installed signal types or https://github.com/hyperspy/hyperspy-extensions-list for the list of all hyperspy extensions providing signals. (hyperspy.io:744)\u001b[0m\n",
      "From inside writespectrum, we create a spectrum of shape (2048,)\n",
      "\u001b[33;20mWARNING | Hyperspy | `signal_type='EDS_SEM'` not understood. See `hs.print_known_signal_types()` for a list of installed signal types or https://github.com/hyperspy/hyperspy-extensions-list for the list of all hyperspy extensions providing signals. (hyperspy.io:744)\u001b[0m\n",
      "From inside writespectrum, we create a spectrum of shape (2048,)\n",
      "\u001b[33;20mWARNING | Hyperspy | `signal_type='EDS_SEM'` not understood. See `hs.print_known_signal_types()` for a list of installed signal types or https://github.com/hyperspy/hyperspy-extensions-list for the list of all hyperspy extensions providing signals. (hyperspy.io:744)\u001b[0m\n",
      "From inside writespectrum, we create a spectrum of shape (2048,)\n",
      "\u001b[33;20mWARNING | Hyperspy | `signal_type='EDS_SEM'` not understood. See `hs.print_known_signal_types()` for a list of installed signal types or https://github.com/hyperspy/hyperspy-extensions-list for the list of all hyperspy extensions providing signals. (hyperspy.io:744)\u001b[0m\n",
      "From inside writespectrum, we create a spectrum of shape (2048,)\n",
      "\u001b[33;20mWARNING | Hyperspy | `signal_type='EDS_SEM'` not understood. See `hs.print_known_signal_types()` for a list of installed signal types or https://github.com/hyperspy/hyperspy-extensions-list for the list of all hyperspy extensions providing signals. (hyperspy.io:744)\u001b[0m\n",
      "From inside writespectrum, we create a spectrum of shape (2048,)\n"
     ]
    }
   ],
   "source": [
<<<<<<< HEAD
    "from AutoPhenom import getSpotSpectrum\n",
=======
    "from getSpotSpectrum import getSpotSpectrum\n",
>>>>>>> b932f4450740b28319725338251acc976b8f1aa9
    "\n",
    "SavePath = r\"C:\\PhenomData\\DriftAnalysis\\August22DriftCorrectionExperiments\\NoDriftCorrection\"\n",
    "MainPath = r\"C:\\PhenomData\\DriftAnalysis\\August22DriftCorrectionExperiments\\NoDriftCorrection\"\n",
    "\n",
    "# Set up the spectrometer\n",
    "dpp = phenom.Spectrometer\n",
    "settings = ppi.LoadEidSettings()\n",
    "dpp.ApplySettings(settings.spot)\n",
    "\n",
    "sample_name = \"Lead Tin alloy\"\n",
    "\n",
    "dwell_time = 10\n",
    "\n",
    "for i in range(6):\n",
    "    getSpotSpectrum(\n",
    "            0.5,0.5,\n",
    "            (1024, 1024),\n",
    "            SavePath,\n",
    "            MainPath, \n",
    "            dpp,\n",
    "            address,\n",
    "            phenom,\n",
    "            sample_name,\n",
    "            dwell_time)"
   ]
  },
  {
   "cell_type": "markdown",
   "id": "4d4110b4",
   "metadata": {},
   "source": [
    "### Trying some drift correction techniques"
   ]
  },
  {
   "cell_type": "code",
<<<<<<< HEAD
   "execution_count": 33,
=======
   "execution_count": null,
>>>>>>> b932f4450740b28319725338251acc976b8f1aa9
   "id": "fb244c4b",
   "metadata": {},
   "outputs": [
    {
     "ename": "AttributeError",
<<<<<<< HEAD
     "evalue": "module 'PyPhenom' has no attribute 'analyzer'",
=======
     "evalue": "'Phenom' object has no attribute 'DriftCorrection'",
>>>>>>> b932f4450740b28319725338251acc976b8f1aa9
     "output_type": "error",
     "traceback": [
      "\u001b[1;31m---------------------------------------------------------------------------\u001b[0m",
      "\u001b[1;31mAttributeError\u001b[0m                            Traceback (most recent call last)",
<<<<<<< HEAD
      "Cell \u001b[1;32mIn[33], line 16\u001b[0m\n\u001b[0;32m     13\u001b[0m dwell_time \u001b[38;5;241m=\u001b[39m \u001b[38;5;241m10\u001b[39m\n\u001b[0;32m     15\u001b[0m \u001b[38;5;66;03m# phenom.SetEnableDriftCorrection(True)\u001b[39;00m\n\u001b[1;32m---> 16\u001b[0m \u001b[38;5;28mprint\u001b[39m(\u001b[38;5;28mdir\u001b[39m(\u001b[43mppi\u001b[49m\u001b[38;5;241;43m.\u001b[39;49m\u001b[43manalyzer\u001b[49m))\n\u001b[0;32m     17\u001b[0m phenom\u001b[38;5;241m.\u001b[39mAcquireDriftCorrectionReference()\n\u001b[0;32m     18\u001b[0m \u001b[38;5;66;03m# phenom.SupportsDriftCorrection()\u001b[39;00m\n\u001b[0;32m     19\u001b[0m \u001b[38;5;66;03m# for i in range(6):\u001b[39;00m\n\u001b[0;32m     20\u001b[0m \u001b[38;5;66;03m#     phenom.GetEnableDriftCorrection()\u001b[39;00m\n\u001b[1;32m   (...)\u001b[0m\n\u001b[0;32m     29\u001b[0m \u001b[38;5;66;03m#             sample_name,\u001b[39;00m\n\u001b[0;32m     30\u001b[0m \u001b[38;5;66;03m#             dwell_time)\u001b[39;00m\n",
      "\u001b[1;31mAttributeError\u001b[0m: module 'PyPhenom' has no attribute 'analyzer'"
=======
      "Cell \u001b[1;32mIn[25], line 16\u001b[0m\n\u001b[0;32m     13\u001b[0m dwell_time \u001b[38;5;241m=\u001b[39m \u001b[38;5;241m10\u001b[39m\n\u001b[0;32m     15\u001b[0m \u001b[38;5;66;03m# phenom.SetEnableDriftCorrection(True)\u001b[39;00m\n\u001b[1;32m---> 16\u001b[0m \u001b[38;5;28mprint\u001b[39m(\u001b[38;5;28mdir\u001b[39m(\u001b[43mphenom\u001b[49m\u001b[38;5;241;43m.\u001b[39;49m\u001b[43mDriftCorrection\u001b[49m\u001b[38;5;241m.\u001b[39mOn))\n\u001b[0;32m     17\u001b[0m \u001b[38;5;28mprint\u001b[39m(\u001b[38;5;28mdir\u001b[39m(ppi\u001b[38;5;241m.\u001b[39mDriftCorrection))\n\u001b[0;32m     18\u001b[0m \u001b[38;5;66;03m# phenom.SupportsDriftCorrection()\u001b[39;00m\n\u001b[0;32m     19\u001b[0m \u001b[38;5;66;03m# for i in range(6):\u001b[39;00m\n\u001b[0;32m     20\u001b[0m \u001b[38;5;66;03m#     phenom.GetEnableDriftCorrection()\u001b[39;00m\n\u001b[1;32m   (...)\u001b[0m\n\u001b[0;32m     29\u001b[0m \u001b[38;5;66;03m#             sample_name,\u001b[39;00m\n\u001b[0;32m     30\u001b[0m \u001b[38;5;66;03m#             dwell_time)\u001b[39;00m\n",
      "\u001b[1;31mAttributeError\u001b[0m: 'Phenom' object has no attribute 'DriftCorrection'"
>>>>>>> b932f4450740b28319725338251acc976b8f1aa9
     ]
    }
   ],
   "source": [
<<<<<<< HEAD
    "from AutoPhenom import getSpotSpectrum\n",
=======
    "from getSpotSpectrum import getSpotSpectrum\n",
>>>>>>> b932f4450740b28319725338251acc976b8f1aa9
    "\n",
    "SavePath = r\"C:\\PhenomData\\DriftAnalysis\\August22DriftCorrectionExperiments\\GetEnableDriftCorrection\"\n",
    "MainPath = r\"C:\\PhenomData\\DriftAnalysis\\August22DriftCorrectionExperiments\\GetEnableDriftCorrection\"\n",
    "\n",
    "# Set up the spectrometer\n",
    "dpp = phenom.Spectrometer\n",
    "settings = ppi.LoadEidSettings()\n",
    "dpp.ApplySettings(settings.spot)\n",
    "\n",
    "sample_name = \"Lead Tin alloy\"\n",
    "\n",
    "dwell_time = 10\n",
    "\n",
    "# phenom.SetEnableDriftCorrection(True)\n",
<<<<<<< HEAD
    "print(dir(ppi.analyzer))\n",
    "phenom.AcquireDriftCorrectionReference()\n",
=======
    "print(dir(ppi.DriftCorrection))\n",
>>>>>>> b932f4450740b28319725338251acc976b8f1aa9
    "# phenom.SupportsDriftCorrection()\n",
    "# for i in range(6):\n",
    "#     phenom.GetEnableDriftCorrection()\n",
    "#     getSpotSpectrum(\n",
    "#             0.5,0.5,\n",
    "#             (1024, 1024),\n",
    "#             SavePath,\n",
    "#             MainPath, \n",
    "#             dpp,\n",
    "#             address,\n",
    "#             phenom,\n",
    "#             sample_name,\n",
    "#             dwell_time)"
   ]
  },
  {
   "cell_type": "markdown",
   "id": "ec25a4c7",
   "metadata": {},
   "source": [
    "### Acquire SEM Image"
   ]
  },
  {
   "cell_type": "code",
   "execution_count": null,
   "id": "3a3f6bcc",
   "metadata": {},
   "outputs": [],
   "source": [
    "ImageSavePath = r\"C:\\PhenomData\\DriftAnalysis\\August22DriftCorrectionExperiments\\GetEnableDriftCorrection\\Images\"\n",
    "filename = \"SEM_image\"\n",
    "image_path = AcquireSEMImage_at_current_location(ImageSavePath, os.path.basename(filename), 1024)"
   ]
  },
  {
   "cell_type": "markdown",
   "id": "670306ea",
   "metadata": {},
   "source": [
    "### Print directory"
   ]
  },
  {
   "cell_type": "code",
<<<<<<< HEAD
   "execution_count": 31,
=======
   "execution_count": 18,
>>>>>>> b932f4450740b28319725338251acc976b8f1aa9
   "id": "6cc05fc6",
   "metadata": {},
   "outputs": [
    {
     "name": "stdout",
     "output_type": "stream",
     "text": [
<<<<<<< HEAD
      "['AbortAcquisition', 'AcquireSpectrum', 'Activate', 'ActivateFeature', 'AddUser', 'BackupSupplyAvailable', 'BackupSupplyStatusChanged', 'BeginSemAcquisition', 'CanJogInWorkArea', 'CanResetSpectrometer', 'ChangePassword', 'CloseDoor', 'ConfirmBakeout', 'Connected', 'ConnectedChanged', 'CreateNewSourceStatistics', 'DisconnectSpectrometer', 'DoorStatusChanged', 'ExclusiveAccessStatusChanged', 'FieldWidthChanged', 'FieldWidthRangeChanged', 'GenerateSysInfo', 'GetActivatedFeatures', 'GetApiRetryCount', 'GetBackupSupplyStatus', 'GetCurrentUser', 'GetDatabarFields', 'GetDatabarLabel', 'GetDoorStatus', 'GetEnableDriftCorrection', 'GetExclusiveAccess', 'GetExclusiveAccessStatus', 'GetHFW', 'GetHFWRange', 'GetImageDeviceCalibration', 'GetInstrumentHealth', 'GetInstrumentMode', 'GetLoginEvents', 'GetNavCamBrightness', 'GetNavCamContrast', 'GetNavCamDeviceMode', 'GetNavCamHFWRange', 'GetNavCamViewingMode', 'GetNavCamWD', 'GetNavCamWDRange', 'GetOperationalMode', 'GetPowerState', 'GetProgressAreaSelection', 'GetPropertyBool', 'GetPropertyDouble', 'GetPropertyInt', 'GetPropertyNames', 'GetPropertyString', 'GetRemainingTimeForPowerToSettle', 'GetRemainingTimeForSystemToShutdown', 'GetSampleHolder', 'GetSemAutoFocussing', 'GetSemAutoStigmating', 'GetSemBrightness', 'GetSemBsdGain', 'GetSemBsdGainRange', 'GetSemBsdOffset', 'GetSemBsdOffsetRange', 'GetSemContrast', 'GetSemDeviceMode', 'GetSemDeviceModeProgress', 'GetSemHighTension', 'GetSemHighTensionRange', 'GetSemImageShift', 'GetSemImageShiftRange', 'GetSemRotation', 'GetSemSedGain', 'GetSemSedGainRange', 'GetSemSedOffset', 'GetSemSedOffsetRange', 'GetSemSourceTilt', 'GetSemSpotSize', 'GetSemSpotSizeRange', 'GetSemStigmate', 'GetSemTiltScanMode', 'GetSemViewingMode', 'GetSemViewingModeEx', 'GetSemWD', 'GetSemWDRange', 'GetSourceBurningHours', 'GetSourceId', 'GetSpectrum', 'GetStageCenterCalibration', 'GetStageModeAndPosition', 'GetStageStroke', 'GetStandbyTimeout', 'GetTotalTimeOn', 'GetUsers', 'HasApiExtension', 'HasDoorControl', 'HasProperty', 'Hibernate', 'ImageDeviceCalibChanged', 'InstrumentModeChanged', 'IsOverruleSafeStartupTimeAllowed', 'Jog', 'Load', 'Login', 'LoginEventOccurred', 'Logout', 'MoveBy', 'MoveTo', 'MoveToNavCam', 'MoveToSem', 'MultiStageCanMoveTo', 'MultiStageGetActuals', 'MultiStageGetCapabilities', 'MultiStageGetCenterCalib', 'MultiStageGetSampleHeight', 'MultiStageGetSampleRadius', 'MultiStageMoveTo', 'MultiStageSetCenterCalib', 'MultiStageSetSampleRadius', 'NavCamAcquireImage', 'NavCamBrightnessChanged', 'NavCamContrastChanged', 'NavCamFieldWidthRangeChanged', 'NavCamGetLiveImageCopy', 'NavCamGetOverviewImage', 'NavCamUpdateOverviewImage', 'NavCamWorkingDistanceChanged', 'NavCamWorkingDistanceRangeChanged', 'NavcamOverviewImageUpdated', 'OpenDoor', 'OperationalModeChanged', 'OverruleSafeStartupTime', 'OverruleSafeStartupTimeAllowedChanged', 'PowerOff', 'PowerStateChanged', 'ProgressAreaSelectionChanged', 'Reboot', 'RegisterSampleHolder', 'ReleaseExclusiveAccess', 'RemoveUser', 'RequiresBakeoutConfirmation', 'RequiresLogin', 'RequiresMaintenance', 'ResetSpectrometer', 'ResetStandbyTimer', 'SampleHolderCallOperation', 'SampleHolderEvent', 'SampleHolderGetCapabilities', 'SampleHolderGetValue', 'SampleHolderSetValue', 'SampleHolderStatusChanged', 'SelectImagingDevice', 'SemAbortAutoSourceTilt', 'SemAcquireImage', 'SemAcquireImageEx', 'SemAllowedVacuumChargeReductionChanged', 'SemAutoContrastBrightness', 'SemAutoFocus', 'SemAutoSourceTilt', 'SemAutoStigmate', 'SemBlankBeam', 'SemBlankSource', 'SemBrightnessChanged', 'SemBsdGainChanged', 'SemBsdOffsetChanged', 'SemContrastChanged', 'SemDegauss', 'SemDeviceModeChanged', 'SemDisableSed', 'SemEnableSed', 'SemGetAcquisition', 'SemGetAcquisitionTimeEstimate', 'SemGetAllowedVacuumChargeReduction', 'SemGetDetectorMixFactors', 'SemGetEmissionCurrent', 'SemGetEmissionCurrentRange', 'SemGetFaradayCupInfo', 'SemGetLastAutoProbeImage', 'SemGetLiveImageCopy', 'SemGetRemainingTimeToEnableSed', 'SemGetSedState', 'SemGetTargetVacuumChargeReduction', 'SemGetVacuumChargeReductionState', 'SemHasSed', 'SemHighTensionChanged', 'SemImageShiftChanged', 'SemIsVacuumChargeReductionAllowed', 'SemProgressDeviceModeChanged', 'SemReadFaradayCupCurrent', 'SemRemaingTimeToEnableSedChanged', 'SemRotationChanged', 'SemSedFailureOccured', 'SemSedStateChanged', 'SemSetDetectorMixFactors', 'SemSetEmissionCurrent', 'SemSetTargetVacuumChargeReduction', 'SemSpotSizeChanged', 'SemSpotSizeRangeChanged', 'SemStigmateChanged', 'SemTargetVacuumChargeReductionChanged', 'SemUnblankBeam', 'SemUnblankSource', 'SemWaitForSedDisabled', 'SemWaitForSedEnabled', 'SemWorkingDistanceChanged', 'SemWorkingDistanceRangeChanged', 'SetApiRetryCount', 'SetDatabarFields', 'SetDatabarLabel', 'SetEnableDriftCorrection', 'SetHFW', 'SetImageDeviceCalibration', 'SetInstrumentMode', 'SetNavCamBrightness', 'SetNavCamContrast', 'SetNavCamViewingMode', 'SetNavCamWD', 'SetSemBrightness', 'SetSemBsdGain', 'SetSemBsdOffset', 'SetSemContrast', 'SetSemHighTension', 'SetSemImageShift', 'SetSemRotation', 'SetSemScanDefinition', 'SetSemSedGain', 'SetSemSedOffset', 'SetSemSourceTilt', 'SetSemSpotSize', 'SetSemStigmate', 'SetSemTiltScanMode', 'SetSemViewingMode', 'SetSemViewingModeEx', 'SetSemWD', 'SetStageCenterCalibration', 'SetStandbyTimeout', 'Spectrometer', 'StageCenterCalibChanged', 'StageModeAndPositionChanged', 'StageStrokeChanged', 'Standby', 'Stop', 'SupportsDriftCorrection', 'Unload', 'UnloadSample', '__class__', '__delattr__', '__dict__', '__dir__', '__doc__', '__eq__', '__format__', '__ge__', '__getattribute__', '__gt__', '__hash__', '__init__', '__init_subclass__', '__instance_size__', '__le__', '__lt__', '__module__', '__ne__', '__new__', '__reduce__', '__reduce_ex__', '__repr__', '__setattr__', '__sizeof__', '__str__', '__subclasshook__', '__weakref__', 'versionInfo']\n"
=======
      "['Acquisition', 'AcquisitionSource', 'AcquisitionState', 'AcquisitionType', 'AddDatabar', 'AngleAnnotation', 'Annotation', 'Application', 'ArcAnnotation', 'AreaSelectionProgress', 'AutoFocusAlgorithm', 'BackupSupplyStatus', 'Bgr24', 'Bgra32', 'Bounds', 'CamParams', 'CenteredRectangle', 'CenteredRectangleD', 'CheckLicense', 'ColorMaps', 'Colors', 'ConnectSignedScript', 'DatabarField', 'DatabarRenderer', 'DegaussMode', 'DetectorMixFactors', 'DetectorMode', 'DetectorSegment', 'Distance', 'DoorStatus', 'DriftCorrection', 'Error', 'Event', 'ExclusiveAccessStatus', 'ExpiryDate', 'FaradayCupInfo', 'Features', 'FindPhenom', 'FindPhenoms', 'GetImageInfo', 'GetLicenseExpiryDate', 'GetLicenses', 'GetSampleHolderMap', 'HasLicense', 'Hsv', 'Hsv2Rgb', 'Image', 'ImageInfo', 'ImagingDevice', 'InstallLicense', 'InstrumentHealth', 'InstrumentMode', 'LengthAnnotation', 'LicenseInfo', 'Line', 'Load', 'LoadEidSettings', 'LoadFromBmp', 'LoadFromJpeg', 'LoadFromTiff', 'LoadPulseProcessorSettings', 'LoadingWorkArea', 'Logging', 'LoginEvent', 'LoginEventType', 'MagnificationFromFieldWidth', 'MagnificationStyle', 'MagnificationToFieldWidth', 'MakeDefaultSampleHolderMap', 'MakeXLFilter2x2InsertMap', 'MakeXLFilter3x3InsertMapRev3', 'MakeXLFilter3x3InsertMapRev4', 'MakeXLSampleHolderMap', 'MovieWriter', 'MultiStageActuals', 'MultiStageAxisCapability', 'MultiStageAxisId', 'NavCamMode', 'NavigationAlgorithm', 'OperationalMode', 'Patterning', 'Pdf', 'Phenom', 'PhenomIdentifier', 'PhysicalBounds', 'PixelFromDisplayValue', 'PixelToDisplayValue', 'PixelType', 'Point', 'Position', 'PowerManagementStatus', 'Processing', 'Progress', 'ProgressStatus', 'PulseProcessorPreset', 'PulseProcessorSettings', 'Range', 'Rectangle', 'RectangleD', 'RemoveDatabar', 'RetVal', 'Rgb24', 'Rgb2Hsv', 'Rgba32', 'SampleHolderCapability', 'SampleHolderInfo', 'SampleHolderStatus', 'SampleHolderType', 'Save', 'SaveConversion', 'SaveOption', 'ScanExtClockMode', 'ScanMode', 'ScanParams', 'ScanParamsEx', 'SedFailure', 'SedState', 'SemDeviceModeProgress', 'SemMode', 'SemViewingMode', 'SemViewingModeEx', 'Size', 'SizeD', 'SizeF', 'Spectrometer', 'SpectrometerStatus', 'Spectroscopy', 'StageModeAndPosition', 'StageNavigationMode', 'StageStroke', 'Stitch', 'TextAnnotation', 'TiltScanMode', 'UninstallLicense', 'VacuumChargeReduction', 'VacuumChargeReductionState', 'Vector2D', 'VersionInfo', 'ViewOrientation', 'WdAdjustmentMethod', 'WdCorrectionMethod', '__author__', '__copyright__', '__date__', '__doc__', '__file__', '__hash__', '__loader__', '__name__', '__package__', '__spec__', '__version__']\n"
>>>>>>> b932f4450740b28319725338251acc976b8f1aa9
     ]
    }
   ],
   "source": [
<<<<<<< HEAD
    "print(dir(phenom))"
=======
    "print(dir(ppi))"
>>>>>>> b932f4450740b28319725338251acc976b8f1aa9
   ]
  }
 ],
 "metadata": {
  "kernelspec": {
   "display_name": "Phenom-Env_V2",
   "language": "python",
   "name": "python3"
  },
  "language_info": {
   "codemirror_mode": {
    "name": "ipython",
    "version": 3
   },
   "file_extension": ".py",
   "mimetype": "text/x-python",
   "name": "python",
   "nbconvert_exporter": "python",
   "pygments_lexer": "ipython3",
   "version": "3.8.0"
  }
 },
 "nbformat": 4,
 "nbformat_minor": 5
}
