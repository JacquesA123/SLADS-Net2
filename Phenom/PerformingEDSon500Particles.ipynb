{
 "cells": [
  {
   "cell_type": "markdown",
   "id": "d342c570",
   "metadata": {},
   "source": [
    "# Performing EDS on 500 Particles"
   ]
  },
  {
   "cell_type": "markdown",
   "id": "c4b41561",
   "metadata": {},
   "source": [
    "## Set up"
   ]
  },
  {
   "cell_type": "code",
   "execution_count": null,
   "id": "7c897c0c",
   "metadata": {},
   "outputs": [],
   "source": [
    "import numpy as np\n",
    "import cv2\n",
    "from matplotlib import pyplot as plt\n",
<<<<<<< HEAD
    "from AutoPhenom import getSpotSpectrum\n",
    "import time\n",
    "import numpy as np\n",
    "from AutoPhenom import AcquireSEMImage_at_current_location\n",
=======
    "from getSpotSpectrum import getSpotSpectrum\n",
    "import time\n",
    "import numpy as np\n",
    "from PyPhenom_SLADS import AcquireSEMImage_at_current_location\n",
>>>>>>> b932f4450740b28319725338251acc976b8f1aa9
    "import PyPhenom as ppi\n",
    "import license\n",
    "import os\n",
    "\n",
    "# Set up the phenom\n",
    "address = ppi.FindPhenom(1).ip\n",
    "phenom = ppi.Phenom(address,  license.PhenomUsername,  license.PhenomPassword)\n",
    "\n",
    "# Set up saving folder\n",
    "SavePath = r\"C:\\PhenomData\\NickelSpheres\\Segmentation Project\\Testing\\Image Chain Tests\\Image Chain Test 4\"\n",
    "\n",
    "# Define the sample area length\n",
    "sample_area_length = 3e-4\n",
    "\n",
    "\n",
    "# Define the SEM image dimensions\n",
    "SEM_image_length = 1e-4 # Can be from around 2.4e-6 to 6.98e-4 meters\n",
    "phenom.SetHFW(SEM_image_length)\n",
    "\n",
    "# Define the shift in position between images\n",
    "shift_between_images_length = SEM_image_length * 2 # Multiply by a constant for extra cushion to prevent overlapping spheres\n",
    "\n"
   ]
  },
  {
   "cell_type": "markdown",
   "id": "9f80a85b",
   "metadata": {},
   "source": [
    "## Capture Chain of Images"
   ]
  },
  {
   "cell_type": "code",
   "execution_count": null,
   "id": "76d2f061",
   "metadata": {},
   "outputs": [
    {
     "name": "stdout",
     "output_type": "stream",
     "text": [
      "The sampling area has dimensions 0.0003 x 0.0003 and is centered at (0.0, 0.0).\n",
      "The upper boundary occurs at 0.00015\n",
      "Image acquired at (-0.00030000000000002594, -0.0003024999999999827)\n",
      "Moving to the right\n",
      "Image acquired at (-0.00020000000000002655, -0.0003024999999999827)\n",
      "Moving to the right\n",
      "Image acquired at (-0.00010000000000002715, -0.0003024999999999827)\n",
      "Moving to the right\n",
      "Image acquired at (-2.7755575615628914e-17, -0.0003024999999999827)\n",
      "Moving to the right\n",
      "Image acquired at (9.999999999997164e-05, -0.0003024999999999827)\n",
      "Moving to the right\n",
      "Image acquired at (0.0001999999999999745, -0.0003024999999999827)\n",
      "Moving to the right\n",
      "Image acquired at (0.0002999999999999739, -0.0003024999999999827)\n",
      "Moving to the right\n",
      "Image acquired at (0.0003999999999999733, -0.0003024999999999827)\n",
      "Moving up a row\n",
      "Image acquired at (-0.00030000000000002594, -0.0002024999999999833)\n",
      "Moving to the right\n",
      "Image acquired at (-0.00020000000000002655, -0.0002024999999999833)\n",
      "Moving to the right\n",
      "Image acquired at (-0.00010000000000002715, -0.0002024999999999833)\n",
      "Moving to the right\n",
      "Image acquired at (-2.7755575615628914e-17, -0.0002024999999999833)\n",
      "Moving to the right\n",
      "Image acquired at (9.999999999997164e-05, -0.0002024999999999833)\n"
     ]
    },
    {
     "ename": "KeyboardInterrupt",
     "evalue": "",
     "output_type": "error",
     "traceback": [
      "\u001b[1;31m---------------------------------------------------------------------------\u001b[0m",
      "\u001b[1;31mKeyboardInterrupt\u001b[0m                         Traceback (most recent call last)",
      "Cell \u001b[1;32mIn[10], line 43\u001b[0m\n\u001b[0;32m     41\u001b[0m image_filename \u001b[38;5;241m=\u001b[39m \u001b[38;5;124mf\u001b[39m\u001b[38;5;124m'\u001b[39m\u001b[38;5;124mSEM_image_\u001b[39m\u001b[38;5;132;01m{\u001b[39;00mimages_taken\u001b[38;5;132;01m}\u001b[39;00m\u001b[38;5;124m_at_(\u001b[39m\u001b[38;5;132;01m{\u001b[39;00mx_coordinate\u001b[38;5;132;01m}\u001b[39;00m\u001b[38;5;124m, \u001b[39m\u001b[38;5;132;01m{\u001b[39;00my_coordinate\u001b[38;5;132;01m}\u001b[39;00m\u001b[38;5;124m)\u001b[39m\u001b[38;5;124m'\u001b[39m\n\u001b[0;32m     42\u001b[0m MainPath \u001b[38;5;241m=\u001b[39m \u001b[38;5;124m\"\u001b[39m\u001b[38;5;124m./\u001b[39m\u001b[38;5;124m\"\u001b[39m\n\u001b[1;32m---> 43\u001b[0m image_path \u001b[38;5;241m=\u001b[39m \u001b[43mAcquireSEMImage_at_current_location\u001b[49m\u001b[43m(\u001b[49m\u001b[43mSavePath\u001b[49m\u001b[43m,\u001b[49m\u001b[43m \u001b[49m\u001b[43mos\u001b[49m\u001b[38;5;241;43m.\u001b[39;49m\u001b[43mpath\u001b[49m\u001b[38;5;241;43m.\u001b[39;49m\u001b[43mbasename\u001b[49m\u001b[43m(\u001b[49m\u001b[43mimage_filename\u001b[49m\u001b[43m)\u001b[49m\u001b[43m)\u001b[49m\n\u001b[0;32m     44\u001b[0m images_taken \u001b[38;5;241m+\u001b[39m\u001b[38;5;241m=\u001b[39m \u001b[38;5;241m1\u001b[39m\n\u001b[0;32m     46\u001b[0m \u001b[38;5;66;03m# Move by a little bit to the right\u001b[39;00m\n",
      "File \u001b[1;32mc:\\Users\\labuser\\PyPhenom1.7Codes\\PyPhenom_SLADS.py:222\u001b[0m, in \u001b[0;36mAcquireSEMImage_at_current_location\u001b[1;34m(path, filename)\u001b[0m\n\u001b[0;32m    220\u001b[0m acqScanParams\u001b[38;5;241m.\u001b[39mhdr\u001b[38;5;241m=\u001b[39m \u001b[38;5;28;01mFalse\u001b[39;00m \u001b[38;5;66;03m# a Boolean to use High Dynamic Range mode\u001b[39;00m\n\u001b[0;32m    221\u001b[0m acqScanParams\u001b[38;5;241m.\u001b[39mscale \u001b[38;5;241m=\u001b[39m \u001b[38;5;241m1.0\u001b[39m\n\u001b[1;32m--> 222\u001b[0m acq \u001b[38;5;241m=\u001b[39m \u001b[43mphenom\u001b[49m\u001b[38;5;241;43m.\u001b[39;49m\u001b[43mSemAcquireImage\u001b[49m\u001b[43m(\u001b[49m\u001b[43macqScanParams\u001b[49m\u001b[43m)\u001b[49m\n\u001b[0;32m    223\u001b[0m acq\u001b[38;5;241m.\u001b[39mmetadata\u001b[38;5;241m.\u001b[39mdisplayWidth \u001b[38;5;241m=\u001b[39m \u001b[38;5;241m0.5\u001b[39m\n\u001b[0;32m    224\u001b[0m acq\u001b[38;5;241m.\u001b[39mmetadata\u001b[38;5;241m.\u001b[39mdataBarLabel \u001b[38;5;241m=\u001b[39m \u001b[38;5;124m\"\u001b[39m\u001b[38;5;124mLabel\u001b[39m\u001b[38;5;124m\"\u001b[39m\n",
      "\u001b[1;31mKeyboardInterrupt\u001b[0m: "
     ]
    }
   ],
   "source": [
<<<<<<< HEAD
    "def acquire_and_save_image(x, y, image_num, phenom):\n",
    "    image_filename = f'SEM_image_{image_num}_at_({x}, {y})'\n",
    "    MainPath = \"./\"\n",
    "    image_path = AcquireSEMImage_at_current_location(SavePath, os.path.basename(image_filename), phenom)\n",
=======
    "def acquire_and_save_image(x, y, image_num):\n",
    "    image_filename = f'SEM_image_{image_num}_at_({x}, {y})'\n",
    "    MainPath = \"./\"\n",
    "    image_path = AcquireSEMImage_at_current_location(SavePath, os.path.basename(image_filename))\n",
>>>>>>> b932f4450740b28319725338251acc976b8f1aa9
    "    return image_path\n",
    "\n",
    "def get_current_position(phenom):\n",
    "    pos = phenom.GetStageModeAndPosition().position\n",
    "    return pos.x, pos.y\n",
    "\n",
    "# Set position of first image\n",
    "sample_area_center = (0.0, 0.0) # Determine this manually\n",
    "initial_image_position = (sample_area_center[0] - sample_area_length, sample_area_center[0] - sample_area_length)\n",
    "phenom.MoveTo(initial_image_position[0], initial_image_position[1])\n",
    "\n",
    "# Print dimensions of sample area\n",
    "print(f'The sampling area has dimensions {sample_area_length} x {sample_area_length} and is centered at {sample_area_center}.')\n",
    "print(f\"The upper boundary occurs at {sample_area_center[1] + 0.5 * sample_area_length}\")\n",
    "\n",
    "# Start image chain\n",
    "stopping_threshold = 100\n",
    "images_taken = 0\n",
    "leftmost_image_of_current_row_position = initial_image_position\n",
    "\n",
    "while images_taken < stopping_threshold:\n",
    "    \n",
    "    x_coordinate, y_coordinate = get_current_position(phenom)\n",
    "\n",
    "    # Check if position is past the right boundary of the sample region\n",
    "    if x_coordinate > (sample_area_center[0] + sample_area_length):\n",
    "        # Move to the start of the next row\n",
    "        phenom.MoveTo(leftmost_image_of_current_row_position[0], leftmost_image_of_current_row_position[1])\n",
    "        phenom.MoveBy(0, shift_between_images_length)\n",
    "\n",
    "        # Update position and row reference\n",
    "        x_coordinate, y_coordinate = get_current_position(phenom)\n",
    "        leftmost_image_of_current_row_position = (x_coordinate, y_coordinate)\n",
    "\n",
    "        # Check if position is out of desired vertical range\n",
    "        if y_coordinate > (sample_area_center[1] + sample_area_length):\n",
    "            print(\"Stopping image acquisition because vertical limit of the sample area has been reached\")\n",
    "            break\n",
    "        \n",
    "        # Save image\n",
<<<<<<< HEAD
    "        acquire_and_save_image(x_coordinate, y_coordinate, images_taken, phenom)\n",
=======
    "        acquire_and_save_image(x_coordinate, y_coordinate, images_taken)\n",
>>>>>>> b932f4450740b28319725338251acc976b8f1aa9
    "        images_taken += 1\n",
    "\n",
    "        # Perform EDS Analysis\n",
    "        \n",
    "\n",
    "        # Move to the right\n",
    "        print(\"Moving to the right\")\n",
    "        phenom.MoveBy(shift_between_images_length, 0)\n",
    "        \n",
    "\n",
    "    else:\n",
    "        # Save image\n",
    "        acquire_and_save_image(x_coordinate, y_coordinate, images_taken)\n",
    "        images_taken += 1\n",
    "\n",
    "        # Perform EDS Analysis\n",
    "\n",
    "        # Move the phenom to the right\n",
    "        phenom.MoveBy(shift_between_images_length, 0)\n",
    "        print('Moving to the right')\n",
    "\n",
    "print('complete')\n",
    "\n",
    "\n"
   ]
  }
 ],
 "metadata": {
  "kernelspec": {
   "display_name": "Python 3",
   "language": "python",
   "name": "python3"
  },
  "language_info": {
   "codemirror_mode": {
    "name": "ipython",
    "version": 3
   },
   "file_extension": ".py",
   "mimetype": "text/x-python",
   "name": "python",
   "nbconvert_exporter": "python",
   "pygments_lexer": "ipython3",
   "version": "3.8.0"
  }
 },
 "nbformat": 4,
 "nbformat_minor": 5
}
