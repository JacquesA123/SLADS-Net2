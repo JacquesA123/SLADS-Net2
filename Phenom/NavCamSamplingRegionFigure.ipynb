{
 "cells": [
  {
   "cell_type": "markdown",
   "id": "2ad83c70",
   "metadata": {},
   "source": [
    "# Visualizing the Image Chain"
   ]
  },
  {
   "cell_type": "code",
   "execution_count": 8,
   "id": "12c59095",
   "metadata": {},
   "outputs": [
    {
     "name": "stdout",
     "output_type": "stream",
     "text": [
      "0.0121\n"
     ]
    }
   ],
   "source": [
    "# Run Nickel Spheres EDS Analysis\n",
    "\n",
<<<<<<< HEAD
    "import AutoPhenom as ap\n",
=======
    "import ParticleImageSegmentationLibrary as pisl\n",
>>>>>>> b932f4450740b28319725338251acc976b8f1aa9
    "import PyPhenom as ppi\n",
    "import license\n",
    "\n",
    "## Prepare the Phenom SEM ##\n",
    "address = ppi.FindPhenom(1).ip\n",
    "phenom = ppi.Phenom(address,  license.PhenomUsername,  license.PhenomPassword)\n",
    "\n",
    "phenom.SetHFW(0.5001)\n",
    "print(phenom.GetHFW())"
   ]
  },
  {
   "cell_type": "markdown",
   "id": "e29fd5eb",
   "metadata": {},
   "source": [
    "## Acquire navcam image and draw the sampling area on top of it"
   ]
  },
  {
   "cell_type": "code",
   "execution_count": null,
   "id": "9571f233",
   "metadata": {},
   "outputs": [
    {
     "name": "stdout",
     "output_type": "stream",
     "text": [
      "The sampling area has dimensions 0.0015 x 0.0015 and is centered at (0.0012, 0.002).\n",
      "The upper boundary occurs at 0.00275\n",
      "NavCam HFW is 0.003\n",
      "NavCam image size is 912\n",
      "hello\n",
      "(228, 228)\n",
      "(684, 684)\n",
      "Created folder with index 0\n",
      "minimum area = 18688.580796587958\n",
      "number of contours detected = 0\n",
      "Total number of particles is 0\n",
      "x pixel is 0\n",
      "y pixel is -243\n",
      "(-0.00030250000000002844, -0.0002999999999999934)\n",
      "Moving to the right\n",
      "Created folder with index 1\n",
      "minimum area = 18688.580796587958\n",
      "number of contours detected = 0\n",
      "Total number of particles is 0\n",
      "x pixel is 36\n",
      "y pixel is -243\n",
      "(-0.00018000000000002736, -0.0003024999999999827)\n",
      "Moving to the right\n",
      "Created folder with index 2\n",
      "minimum area = 18688.580796587958\n",
      "number of contours detected = 0\n",
      "Total number of particles is 0\n",
      "x pixel is 74\n",
      "y pixel is -243\n",
      "(-5.500000000002725e-05, -0.0003024999999999827)\n",
      "Moving to the right\n",
      "Created folder with index 3\n",
      "minimum area = 18688.580796587958\n",
      "number of contours detected = 0\n",
      "Total number of particles is 0\n",
      "x pixel is 112\n",
      "y pixel is -243\n"
     ]
    }
   ],
   "source": [
    "# Run Nickel Spheres EDS Analysis\n",
    "\n",
<<<<<<< HEAD
    "import AutoPhenom as ap\n",
=======
    "import ParticleImageSegmentationLibrary as pisl\n",
>>>>>>> b932f4450740b28319725338251acc976b8f1aa9
    "import PyPhenom as ppi\n",
    "import license\n",
    "\n",
    "## Prepare the Phenom SEM ##\n",
    "address = ppi.FindPhenom(1).ip\n",
    "phenom = ppi.Phenom(address,  license.PhenomUsername,  license.PhenomPassword)\n",
    "\n",
    "## Project Configuration ##\n",
    "\n",
    "# Project Folder\n",
    "save_path = r\"C:\\PhenomData\\NickelSpheres\\Segmentation Project\\Testing\\Image Chain Tests\\Test5\"\n",
<<<<<<< HEAD
    "project_path = ap.create_timestamped_folder(save_path)\n",
=======
    "project_path = pisl.create_timestamped_folder(save_path)\n",
>>>>>>> b932f4450740b28319725338251acc976b8f1aa9
    "\n",
    "\n",
    "# Sampling Area Settings\n",
    "sample_name = 'Nickel Spheres 8/19/25'\n",
    "sample_area_center = (1.2e-3, 2e-3) # Coordinates range from -9e-3 to 9e-3 (meters)\n",
    "sample_area_length = 1.5e-3 # Define the length of the square-shaped samplign area\n",
    "\n",
    "# Particle info\n",
    "desired_number_of_particles = 500 # Autonomous Scanning will stop after this many particles have been analyzed\n",
    "minimum_particle_radius = 4.7 # Please enter this value in micrometers\n",
    "\n",
    "# SEM Settings\n",
    "SEM_image_length = 6.24e-5 # Can be from around 2.4e-6 to 6.98e-4 meters\n",
    "shift_between_images_length = SEM_image_length * 2 # Multiply by a constant for extra cushion to prevent detection of duplicate features\n",
    "image_side_length_in_pixels = 1024\n",
    "\n",
    "# EDS Settings\n",
    "dwell_time = 2 # Amount of EDS Acquisition time per particle\n",
    "number_of_sampling_points_per_particle = 5 # Set the number of points to be acquired radially\n",
    "\n",
    "# Image Processing Settings\n",
    "threshold_intensity = 125 # Values below this will be filtered out as background\n",
    "max_binary_value = 255 # Values above the threshold intensity will be set to this\n",
    "\n",
    "\n",
    "## Run the project ##\n",
    "\n",
    "# Global variables\n",
    "total_number_of_particles = 0 # This global variable will be updated throughout the imaging process and eventually stored as project metadata\n",
    "\n",
    "# Perform Chain Imaging\n",
<<<<<<< HEAD
    "ap.perform_chain_imaging(phenom, project_path, threshold_intensity, max_binary_value, minimum_particle_radius, sample_area_center, sample_area_length, shift_between_images_length, sample_name, address, number_of_sampling_points_per_particle, SEM_image_length, total_number_of_particles, dwell_time, desired_number_of_particles, image_side_length_in_pixels)\n",
=======
    "pisl.perform_chain_imaging(phenom, project_path, threshold_intensity, max_binary_value, minimum_particle_radius, sample_area_center, sample_area_length, shift_between_images_length, sample_name, address, number_of_sampling_points_per_particle, SEM_image_length, total_number_of_particles, dwell_time, desired_number_of_particles, image_side_length_in_pixels)\n",
>>>>>>> b932f4450740b28319725338251acc976b8f1aa9
    "# phenom.SetHFW(0.0025)\n"
   ]
  }
 ],
 "metadata": {
  "kernelspec": {
   "display_name": "Phenom-Env_V2",
   "language": "python",
   "name": "python3"
  },
  "language_info": {
   "codemirror_mode": {
    "name": "ipython",
    "version": 3
   },
   "file_extension": ".py",
   "mimetype": "text/x-python",
   "name": "python",
   "nbconvert_exporter": "python",
   "pygments_lexer": "ipython3",
   "version": "3.8.0"
  }
 },
 "nbformat": 4,
 "nbformat_minor": 5
}
